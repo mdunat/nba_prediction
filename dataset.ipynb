{
 "cells": [
  {
   "cell_type": "code",
   "execution_count": 267,
   "id": "714b8a8a",
   "metadata": {},
   "outputs": [],
   "source": [
    "import pandas as pd\n",
    "import pandas as pd\n",
    "import matplotlib.pyplot as plt\n",
    "\n",
    "import numpy as np\n",
    "from sklearn.preprocessing import LabelEncoder"
   ]
  },
  {
   "cell_type": "code",
   "execution_count": 184,
   "id": "66f3a20c",
   "metadata": {},
   "outputs": [],
   "source": [
    "# Show all cols in df.head()\n",
    "pd.set_option('display.max_columns', None)\n",
    "pd.set_option('display.width', None)\n",
    "\n",
    "# Revert to some cols\n",
    "# pd.reset_option('display.max_columns')\n",
    "# pd.reset_option('display.width')"
   ]
  },
  {
   "cell_type": "markdown",
   "id": "02d6c516",
   "metadata": {},
   "source": [
    "### Load Dataset"
   ]
  },
  {
   "cell_type": "code",
   "execution_count": 346,
   "id": "119e2138",
   "metadata": {},
   "outputs": [],
   "source": [
    "games = pd.read_csv('data/game2.csv', on_bad_lines='skip')\n",
    "games['game_date'] = pd.to_datetime(games['gmDate'])\n",
    "games['year'] = games['game_date'].dt.year\n",
    "games = games.sort_values(by='game_date')\n",
    "games.drop(['gmDate'], axis=1, inplace=True)\n",
    "\n",
    "# change col names for team/oppt to away/home\n",
    "for col in games.columns:\n",
    "\tif col[:4] == 'team':\n",
    "\t\tgames.rename(columns={col: 'away_' + (col[4:]).lower()}, inplace=True)\n",
    "\telif col[:4] == 'oppt':\n",
    "\t\tgames.rename(columns={col: 'home_' + (col[4:]).lower()}, inplace=True)\n",
    "\n",
    "# add 'winner' columns to indicate if home team won\n",
    "games['winner'] = (games['matchWinner'] == games['home_abbr']).astype(int)\n",
    "\n",
    "# set time min 1957-58\n",
    "games = games[games['year'] >= 1957]\n",
    "games = games[games['season'] != '1956-57']\n",
    "\n",
    "games = games.drop_duplicates()\n",
    "\n",
    "games.reset_index(drop=True, inplace=True)"
   ]
  },
  {
   "cell_type": "code",
   "execution_count": 347,
   "id": "15bb23f8",
   "metadata": {},
   "outputs": [],
   "source": [
    "# Basic Preprocessing: Encoding\n",
    "season_le = LabelEncoder()\n",
    "games['seasonType'] = season_le.fit_transform(games['seasonType'])\n",
    "\n",
    "home = games['home_abbr'].unique()\n",
    "away = games['away_abbr'].unique()\n",
    "abbr = np.concatenate((home, away), axis=0)\n",
    "unique = list(set(abbr))\n",
    "\n",
    "teams_le = LabelEncoder()\n",
    "teams_le.fit(unique)\n",
    "games['home_abbr'] = teams_le.transform(games['home_abbr'])\n",
    "games['away_abbr'] = teams_le.transform(games['away_abbr'])"
   ]
  },
  {
   "cell_type": "code",
   "execution_count": 348,
   "id": "78990354",
   "metadata": {},
   "outputs": [],
   "source": [
    "# drop columns\n",
    "games.drop(['season', 'away_loc', 'away_rslt', 'home_loc', 'home_rslt', 'matchWinner',\n",
    "\t\t\t'game_date', 'year'], axis=1, inplace=True)"
   ]
  },
  {
   "cell_type": "markdown",
   "id": "b081cd86",
   "metadata": {},
   "source": [
    "### Past 10 games"
   ]
  },
  {
   "cell_type": "code",
   "execution_count": null,
   "id": "f58cd2ca",
   "metadata": {},
   "outputs": [
    {
     "name": "stdout",
     "output_type": "stream",
     "text": [
      "Index 69933/69933\n",
      "Last row with nan values: 61380\n"
     ]
    }
   ],
   "source": [
    "last_home_games = np.full((games.shape[0], 10, games.shape[1]), np.nan)\n",
    "last_away_games = np.full((games.shape[0], 10, games.shape[1]), np.nan)\n",
    "labels = np.full((games.shape[0], 1), np.nan)\n",
    "\n",
    "for index, row in games.iterrows():\n",
    "    prev = games.loc[:index]\n",
    "\n",
    "    labels[index] = row['winner']\n",
    "    \n",
    "    # get home team last 10 games\n",
    "    home_team = row['home_abbr']\n",
    "    prev_home = prev[(prev['home_abbr'] == home_team) | (prev['away_abbr'] == home_team)]\n",
    "    prev_home = prev_home.shift(1).tail(10)\n",
    "    prev_home.drop('winner', axis=1)\n",
    "    prev_home = prev_home.to_numpy()\n",
    "\n",
    "    if prev_home.shape[0] < 10:\n",
    "        temp = np.full((10, games.shape[1]), np.nan)\n",
    "        temp[10 - prev_home.shape[0]:] = prev_home\n",
    "        prev_home = temp\n",
    "    \n",
    "    # get away team last 10 games\n",
    "    away_team = row['away_abbr']\n",
    "    prev_away = prev[(prev['home_abbr'] == away_team) | (prev['away_abbr'] == away_team)]\n",
    "    prev_away = prev_away.shift(1).tail(10)\n",
    "    prev_away.drop('winner', axis=1)\n",
    "    prev_away = prev_away.to_numpy()\n",
    "\n",
    "    if prev_away.shape[0] < 10:\n",
    "        temp = np.full((10, games.shape[1]), np.nan)\n",
    "        temp[10 - prev_away.shape[0]:] = prev_away\n",
    "        prev_away = temp\n",
    "    \n",
    "    last_home_games[index] = prev_home\n",
    "    last_away_games[index] = prev_away\n",
    "    \n",
    "    print(\"\\rIndex \" + str(index) + \"/\" + str(games.index[-1]), end='')"
   ]
  },
  {
   "cell_type": "code",
   "execution_count": null,
   "id": "28c6bfe8",
   "metadata": {},
   "outputs": [],
   "source": [
    "# mask = np.zeros((games.shape[0], ))\n",
    "\n",
    "# for seq in range(last_home_games.shape[0]):\n",
    "# \tif np.isnan(last_home_games[seq]).any() or np.isnan(last_away_games[seq]).any():\n",
    "# \t\tmask[seq] = 1\n",
    "\n",
    "# last_home_games_test = last_home_games[mask == 0]\n",
    "# last_away_games_test = last_away_games[mask == 0]\n",
    "# labels_test = labels[mask == 0]"
   ]
  },
  {
   "cell_type": "code",
   "execution_count": null,
   "id": "7d38d6c7",
   "metadata": {},
   "outputs": [],
   "source": [
    "# np.save(\"data/data_np/home_last10_X.npy\", last_home_games_test)\n",
    "# np.save(\"data/data_np/away_last10_X.npy\", last_away_games_test)\n",
    "# np.save(\"data/data_np/last10_labels.npy\", last_home_games_test)"
   ]
  },
  {
   "cell_type": "markdown",
   "id": "60e4a1b5",
   "metadata": {},
   "source": [
    "### Past 3 Matchups"
   ]
  },
  {
   "cell_type": "code",
   "execution_count": 410,
   "id": "73f0f501",
   "metadata": {},
   "outputs": [
    {
     "name": "stdout",
     "output_type": "stream",
     "text": [
      "Index 69933/69933"
     ]
    }
   ],
   "source": [
    "last_matchups = np.full((games.shape[0], 3, games.shape[1]), np.nan)\n",
    "labels2 = np.full((games.shape[0], 1), np.nan)\n",
    "\n",
    "for index, row in games.iterrows():\n",
    "    prev = games.loc[:index]\n",
    "    labels2[index] = row['winner']\n",
    "    \n",
    "    # get home team last 10 matchups\n",
    "    home_team = row['home_abbr']\n",
    "    away_team = row['away_abbr']\n",
    "    prev_match = prev[((prev['home_abbr'] == home_team) & (prev['away_abbr'] == away_team) |\n",
    "                        (prev['away_abbr'] == home_team) & (prev['home_abbr'] == away_team))]\n",
    "    prev_match = prev_match.shift(1).tail(3)\n",
    "    prev_match.drop('winner', axis=1)\n",
    "    prev_match = prev_match.to_numpy()\n",
    "\n",
    "    if prev_match.shape[0] < 3:\n",
    "        temp = np.full((3, games.shape[1]), np.nan)\n",
    "        temp[3 - prev_match.shape[0]:] = prev_match\n",
    "        prev_match = temp\n",
    "\n",
    "    last_matchups[index] = prev_match\n",
    "\n",
    "    print(\"\\rIndex \" + str(index) + \"/\" + str(games.index[-1]), end='')"
   ]
  },
  {
   "cell_type": "code",
   "execution_count": null,
   "id": "401be66d",
   "metadata": {},
   "outputs": [],
   "source": [
    "# mask2 = np.zeros((games.shape[0], ))\n",
    "\n",
    "# for seq in range(last_matchups.shape[0]):\n",
    "# \tif np.isnan(last_matchups[seq]).any():\n",
    "# \t\tmask2[seq] = 1\n",
    "\n",
    "# last_matchups_test = last_matchups[mask2 == 0]\n",
    "# labels2_test = labels2[mask2 == 0]"
   ]
  },
  {
   "cell_type": "markdown",
   "id": "a9657c67",
   "metadata": {},
   "source": [
    "### Summary Stats"
   ]
  },
  {
   "cell_type": "code",
   "execution_count": null,
   "id": "6342337d",
   "metadata": {},
   "outputs": [],
   "source": [
    "# seasonal_games['home_seasonal_win_pct'] = np.nan\n",
    "# seasonal_games['away_seasonal_win_pct'] = np.nan\n",
    "# seasonal_games['away_seasonal_pt_diff'] = np.nan\n",
    "# seasonal_games['home_seasonal_pt_diff'] = np.nan\n",
    "# seasonal_games['home_seasonal_home_pct'] = np.nan\n",
    "# seasonal_games['away_seasonal_home_pct'] = np.nan\n",
    "# seasonal_games['home_seasonal_away_pct'] = np.nan\n",
    "# seasonal_games['away_seasonal_away_pct'] = np.nan\n",
    "\n",
    "# count = 0\n",
    "\n",
    "# teams = seasonal_games['team_abbreviation_home'].unique()\n",
    "# teams = list(set(seasonal_games['team_abbreviation_home'].unique()) | set(seasonal_games['team_abbreviation_away'].unique()))\n",
    "\n",
    "# for team in teams:\n",
    "#     # team_games contains every game team played in, sorted by date\n",
    "#     team_games = seasonal_games[(seasonal_games[\"team_abbreviation_home\"] == team) | (seasonal_games[\"team_abbreviation_away\"] == team)].sort_values(by='game_date')\n",
    "\n",
    "#     # home\n",
    "#     team_games['team_home_wins'] = team_games[team_games[\"team_abbreviation_home\"] == team]['wl_home']\n",
    "#     team_games['team_home_wins'] = team_games['team_home_wins'].fillna(0)\n",
    "\n",
    "#     team_games['team_seasonal_home_pct'] = team_games.groupby('season_id')['team_home_wins'].expanding().mean().reset_index(level=0, drop=True).shift(1)\n",
    "#     team_games.loc[team_games.groupby('season_id')['team_home_wins'].head(1).index, 'team_seasonal_home_pct'] = 0.0\n",
    "\n",
    "#     team_games['team_seasonal_home_pct'] = round(team_games['team_seasonal_home_pct'], 5)\n",
    "\n",
    "#     team_games.loc[team_games['team_abbreviation_home'] == team, 'home_seasonal_home_pct'] = team_games['team_seasonal_home_pct']\n",
    "#     team_games.loc[team_games['team_abbreviation_away'] == team, 'away_seasonal_home_pct'] = team_games['team_seasonal_home_pct']\n",
    "#     team_games.drop(['team_home_wins', 'team_seasonal_home_pct'], axis=1, inplace=True)\n",
    "\n",
    "#     # away\n",
    "#     team_games['team_away_wins'] = team_games[team_games[\"team_abbreviation_away\"] == team]['wl_away']\n",
    "#     team_games['team_away_wins'] = team_games['team_away_wins'].fillna(0)\n",
    "\n",
    "#     team_games['team_seasonal_away_pct'] = team_games.groupby('season_id')['team_away_wins'].expanding().mean().reset_index(level=0, drop=True).shift(1)\n",
    "#     team_games.loc[team_games.groupby('season_id')['team_away_wins'].head(1).index, 'team_seasonal_away_pct'] = 0.0\n",
    "\n",
    "#     team_games['team_seasonal_away_pct'] = round(team_games['team_seasonal_away_pct'], 5)\n",
    "\n",
    "#     team_games.loc[team_games['team_abbreviation_home'] == team, 'home_seasonal_away_pct'] = team_games['team_seasonal_away_pct']\n",
    "#     team_games.loc[team_games['team_abbreviation_away'] == team, 'away_seasonal_away_pct'] = team_games['team_seasonal_away_pct']\n",
    "#     team_games.drop(['team_away_wins', 'team_seasonal_away_pct'], axis=1, inplace=True)\n",
    "\n",
    "#     # add cumulative mean of wins (w/l) throughout each season\n",
    "#     team_games['team_wins'] = team_games[team_games[\"team_abbreviation_home\"] == team]['wl_home']\n",
    "#     team_games['team_wins'] = team_games['team_wins'].fillna(team_games[team_games[\"team_abbreviation_away\"] == team]['wl_away'])\n",
    "\n",
    "#     team_games['team_seasonal_win_pct'] = team_games.groupby('season_id')['team_wins'].expanding().mean().reset_index(level=0, drop=True).shift(1)\n",
    "#     team_games.loc[team_games.groupby('season_id')['team_wins'].head(1).index, 'team_seasonal_win_pct'] = 0.0\n",
    "\n",
    "#     team_games['team_seasonal_win_pct'] = round(team_games['team_seasonal_win_pct'], 5)\n",
    "\n",
    "#     team_games.loc[team_games['team_abbreviation_home'] == team, 'home_seasonal_win_pct'] = team_games['team_seasonal_win_pct']\n",
    "#     team_games.loc[team_games['team_abbreviation_away'] == team, 'away_seasonal_win_pct'] = team_games['team_seasonal_win_pct']\n",
    "#     team_games.drop(['team_wins', 'team_seasonal_win_pct'], axis=1, inplace=True)\n",
    "\n",
    "#     # add cumulative mean of pts scored throughout each season\n",
    "#     team_games['team_pts'] = team_games[team_games[\"team_abbreviation_home\"] == team]['pts_home']\n",
    "#     team_games['team_pts'] = team_games['team_pts'].fillna(team_games[team_games[\"team_abbreviation_away\"] == team]['pts_away'])\n",
    "\n",
    "#     team_games['opp_pts'] = team_games[team_games[\"team_abbreviation_home\"] == team]['pts_away']\n",
    "#     team_games['opp_pts'] = team_games['opp_pts'].fillna(team_games[team_games[\"team_abbreviation_away\"] == team]['pts_home'])\n",
    "\n",
    "#     team_games['pt_diff'] = team_games['team_pts'] - team_games['opp_pts']\n",
    "\n",
    "#     team_games['team_seasonal_pt_diff'] = team_games.groupby('season_id')['pt_diff'].expanding().mean().reset_index(level=0, drop=True).shift(1)\n",
    "#     team_games.loc[team_games.groupby('season_id')['team_pts'].head(1).index, 'team_seasonal_pt_diff'] = 0.0\n",
    "\n",
    "#     team_games['team_seasonal_pt_diff'] = round(team_games['team_seasonal_pt_diff'], 5)\n",
    "\n",
    "#     team_games.loc[team_games['team_abbreviation_home'] == team, 'home_seasonal_pt_diff'] = team_games['team_seasonal_pt_diff']\n",
    "#     team_games.loc[team_games['team_abbreviation_away'] == team, 'away_seasonal_pt_diff'] = team_games['team_seasonal_pt_diff']\n",
    "#     team_games.drop(['team_pts', 'opp_pts', 'pt_diff', 'team_seasonal_pt_diff'], axis=1, inplace=True)\n",
    "\n",
    "#     seasonal_games = seasonal_games.combine_first(team_games)\n",
    "\n",
    "#     count += 1\n",
    "#     print(\"\\rTeam \" + str(count) + \"/\" + str(len(teams)), end='')\n",
    "\n",
    "# seasonal_games = seasonal_games[['game_date', 'team_name_home', 'team_name_away', 'season_type', 'season_id',\n",
    "#                                  'year', 'month', 'day', 'home_seasonal_win_pct', 'away_seasonal_win_pct',\n",
    "#                                  'home_seasonal_pt_diff', 'away_seasonal_pt_diff', 'home_seasonal_home_pct',\n",
    "#                                  'away_seasonal_home_pct', 'home_seasonal_away_pct', 'away_seasonal_away_pct']]\n",
    "\n",
    "# print(seasonal_games.shape)\n"
   ]
  },
  {
   "cell_type": "markdown",
   "id": "432076ab",
   "metadata": {},
   "source": [
    "### Save Numpy Datasets"
   ]
  },
  {
   "cell_type": "code",
   "execution_count": 413,
   "id": "69089043",
   "metadata": {},
   "outputs": [],
   "source": [
    "mask = np.zeros((games.shape[0], ))\n",
    "\n",
    "for seq in range(last_home_games.shape[0]):\n",
    "\tif np.isnan(last_home_games[seq]).any() or np.isnan(last_away_games[seq]).any():\n",
    "\t\tmask[seq] = 1\n",
    "\n",
    "mask2 = np.zeros((games.shape[0], ))\n",
    "\n",
    "for seq in range(last_matchups.shape[0]):\n",
    "\tif np.isnan(last_matchups[seq]).any():\n",
    "\t\tmask2[seq] = 1\n",
    "\n",
    "mask_combined = mask + mask2"
   ]
  },
  {
   "cell_type": "code",
   "execution_count": null,
   "id": "23a794f7",
   "metadata": {},
   "outputs": [],
   "source": [
    "last_matchups_test = last_matchups[mask_combined == 0]\n",
    "\n",
    "last_home_games_test = last_home_games[mask_combined == 0]\n",
    "last_away_games_test = last_away_games[mask_combined == 0]\n",
    "labels_test = labels[mask_combined == 0]"
   ]
  },
  {
   "cell_type": "code",
   "execution_count": 421,
   "id": "ef32d689",
   "metadata": {},
   "outputs": [],
   "source": [
    "np.save(\"data/data_np/home_last10_X.npy\", last_home_games_test)\n",
    "np.save(\"data/data_np/away_last10_X.npy\", last_away_games_test)\n",
    "np.save(\"data/data_np/last10_labels.npy\", labels_test)\n",
    "\n",
    "np.save(\"data/data_np/matchups_last3_X.npy\", last_matchups_test)"
   ]
  }
 ],
 "metadata": {
  "kernelspec": {
   "display_name": "Python 3",
   "language": "python",
   "name": "python3"
  },
  "language_info": {
   "codemirror_mode": {
    "name": "ipython",
    "version": 3
   },
   "file_extension": ".py",
   "mimetype": "text/x-python",
   "name": "python",
   "nbconvert_exporter": "python",
   "pygments_lexer": "ipython3",
   "version": "3.11.8"
  }
 },
 "nbformat": 4,
 "nbformat_minor": 5
}
